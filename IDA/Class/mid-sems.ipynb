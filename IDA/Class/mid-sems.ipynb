{
 "cells": [
  {
   "cell_type": "code",
   "execution_count": 1,
   "metadata": {},
   "outputs": [
    {
     "name": "stdout",
     "output_type": "stream",
     "text": [
      "2\n",
      "0\n",
      "1\n",
      "1.0\n",
      "<class 'int'>\n",
      "1\n"
     ]
    }
   ],
   "source": [
    "x = int(input(\"Enter a number: \"))\n",
    "y = int(input(\"Enter a number: \"))\n",
    "print(x+y)\n",
    "print(x-y)\n",
    "print(x*y)\n",
    "print(x/y)\n",
    "print(type(x//y))\n",
    "print(x**y)"
   ]
  },
  {
   "cell_type": "code",
   "execution_count": 2,
   "metadata": {},
   "outputs": [
    {
     "name": "stdout",
     "output_type": "stream",
     "text": [
      "7350\n",
      "7350\n"
     ]
    }
   ],
   "source": [
    "i = 101\n",
    "sum_range = 0\n",
    "while i < 200:\n",
    "  if i % 2 == 0:\n",
    "    sum_range += i\n",
    "  i += 1\n",
    "\n",
    "print(sum_range)\n",
    "\n",
    "sum_range = 0\n",
    "for i in range(102, 200, 2):\n",
    "  sum_range += i\n",
    "\n",
    "print(sum_range)"
   ]
  },
  {
   "cell_type": "code",
   "execution_count": 3,
   "metadata": {},
   "outputs": [
    {
     "name": "stdout",
     "output_type": "stream",
     "text": [
      "1\n",
      "{'a': 1, 'b': 2}\n",
      "<class 'tuple'>\n",
      "<class 'dict'>\n"
     ]
    }
   ],
   "source": [
    "def cheese_shop(*args, **kwargs):\n",
    "  print(args[0])\n",
    "  print(kwargs)\n",
    "  print(type(args))\n",
    "  print(type(kwargs))\n",
    "\n",
    "cheese_shop(1, 2, a=1, b=2)"
   ]
  },
  {
   "cell_type": "code",
   "execution_count": 4,
   "metadata": {},
   "outputs": [
    {
     "data": {
      "text/plain": [
       "'hello w   '"
      ]
     },
     "execution_count": 4,
     "metadata": {},
     "output_type": "execute_result"
    }
   ],
   "source": [
    "# String\n",
    "'hello'*3\n",
    "' '.join(('hello', 'bello'))\n",
    "'hello'.capitalize()\n",
    "'HEllO'.lower()\n",
    "'helLO'.swapcase()\n",
    "'hello HI, what\"s up'.title()\n",
    "'hello HI, what\"s up'.count('h')\n",
    "'hello123'.isdigit()\n",
    "'''hello\n",
    "what\\'s up'''.splitlines()\n",
    "'123'.center(12, '0')\n",
    "gang = 'w'\n",
    "f'hello {gang:{4}.{8}}'"
   ]
  },
  {
   "cell_type": "code",
   "execution_count": 26,
   "metadata": {},
   "outputs": [
    {
     "name": "stdout",
     "output_type": "stream",
     "text": [
      "10\n",
      "['e', 'h', 'l', 'l', 'o']\n",
      "['e', 'c', 'a']\n",
      "[3, 5, 20, 5, 25, 1, 3]\n"
     ]
    }
   ],
   "source": [
    "# List\n",
    "str(['h', 'e', 'l'])\n",
    "list1 = ['h','e','l','l','o']\n",
    "list2 = [1,2,3,4]\n",
    "print(sum(list2))\n",
    "print(sorted(list1))\n",
    "r = ['a','b','c','d','e']\n",
    "print(r[::-2])\n",
    "r = [3,4,5,20,5,25,1,3]\n",
    "r.remove(4)\n",
    "print(r)"
   ]
  },
  {
   "cell_type": "code",
   "execution_count": 41,
   "metadata": {},
   "outputs": [
    {
     "name": "stdout",
     "output_type": "stream",
     "text": [
      "s\n",
      "{'a': 'hello', 'hello': 's'}\n"
     ]
    }
   ],
   "source": [
    "# Dict\n",
    "dictnew = {0: 'zero', 'a': 'hello'}\n",
    "dictnew.pop(0)\n",
    "dictnew.items()\n",
    "dictnew.setdefault('hello', 's')\n",
    "print(dictnew['hello'])\n",
    "print(dictnew)"
   ]
  },
  {
   "cell_type": "code",
   "execution_count": 47,
   "metadata": {},
   "outputs": [
    {
     "name": "stdout",
     "output_type": "stream",
     "text": [
      "1\n",
      "['a', 'b', 'c', 'd']\n",
      "a b d c\n"
     ]
    }
   ],
   "source": [
    "# Tuple\n",
    "x = 'a', 'b', 'd', 'c'\n",
    "type(x)\n",
    "print(x.count('a'))\n",
    "print(sorted(x))\n",
    "a,b,c,d = x\n",
    "print(a,b,c,d)"
   ]
  },
  {
   "cell_type": "code",
   "execution_count": 48,
   "metadata": {},
   "outputs": [
    {
     "name": "stdout",
     "output_type": "stream",
     "text": [
      "Items added to tuple are (12, 13, 14)\n",
      "Tuple items are ('14', '15')\n"
     ]
    }
   ],
   "source": [
    "tuple_items = ()\n",
    "total_items = int(input(\"Enter the total number of items: \"))\n",
    "for i in range(total_items):\n",
    "  user_input = int(input(\"Enter a number: \"))\n",
    "  tuple_items += (user_input,)\n",
    "print(f\"Items added to tuple are {tuple_items}\")\n",
    "\n",
    "list_items = []\n",
    "\n",
    "total_items = int(input(\"Enter the total number of items: \"))\n",
    "for i in range(total_items):\n",
    "  item = input(\"Enter an item to add: \")\n",
    "  list_items.append(item)\n",
    "items_of_tuple = tuple(list_items)\n",
    "print(f\"Tuple items are {items_of_tuple}\")\n"
   ]
  },
  {
   "cell_type": "code",
   "execution_count": 51,
   "metadata": {},
   "outputs": [],
   "source": [
    "set = {'a',2,3}\n",
    "len(set)\n",
    "latitude = ('35W', '23N')"
   ]
  },
  {
   "cell_type": "code",
   "execution_count": 76,
   "metadata": {},
   "outputs": [
    {
     "name": "stdout",
     "output_type": "stream",
     "text": [
      "r+\n",
      "./india.txt\n",
      "what's app guys lmao eol\n",
      "[\"what's app guys lmao\"] eol\n"
     ]
    }
   ],
   "source": [
    "with open('./india.txt', 'r+') as file:\n",
    "  # print([line for line in file])\n",
    "  print(file.mode)\n",
    "  print(file.name)\n",
    "  file.seek(0)\n",
    "  print(file.read(), end=\" eol\\n\")\n",
    "  file.seek(0)\n",
    "  print(file.readlines(), end=\" eol\\n\")\n",
    "  # print(file.write('hello'))"
   ]
  },
  {
   "cell_type": "code",
   "execution_count": 78,
   "metadata": {},
   "outputs": [],
   "source": [
    "with open('films.csv', 'w+') as file:\n",
    "  file.writelines('''Category,Winner,Film,Year\n",
    "Best Picture,Doug Mitchell and George Miller,Mad Max: Fury Road,2015\n",
    "Visual Effects,Richard Stammers,X-Men:Days of Future Past,2014\n",
    "Best Picture,Martin Scorsese and Leonardo DiCaprio,The Wolf of Wall Street,2013\n",
    "Music(Original Song),Adele Adkins and Paul Epworth,Skyfall from Skyfall,2012\n",
    "''')"
   ]
  },
  {
   "cell_type": "code",
   "execution_count": 81,
   "metadata": {},
   "outputs": [
    {
     "name": "stdout",
     "output_type": "stream",
     "text": [
      "Category\tWinner\tFilm\tYear\n",
      "Best Picture\tDoug Mitchell and George Miller\tMad Max: Fury Road\t2015\n",
      "Visual Effects\tRichard Stammers\tX-Men:Days of Future Past\t2014\n",
      "Best Picture\tMartin Scorsese and Leonardo DiCaprio\tThe Wolf of Wall Street\t2013\n",
      "Music(Original Song)\tAdele Adkins and Paul Epworth\tSkyfall from Skyfall\t2012\n"
     ]
    }
   ],
   "source": [
    "with open('films.csv', 'r+') as file:\n",
    "  import csv\n",
    "  reader = csv.reader(file)\n",
    "  for line in reader:\n",
    "    print('\\t'.join(line))"
   ]
  },
  {
   "cell_type": "code",
   "execution_count": 82,
   "metadata": {},
   "outputs": [],
   "source": [
    "csv_header_name = ['Category', 'Winner', 'Film', 'Year']\n",
    "each_row = [['Best Picture', 'Doug Mitchell and George Miller', 'Mad Max: Fury Road', '2015'],\n",
    "['Visual Effects', 'Richard Stammers', 'X - Men: Days of Future Past', '2014'],\n",
    "['Best Picture', 'Martin Scorsese and Leonardo DiCaprio', 'The Wolf of Wall Street', '2013'],\n",
    "['Music(Original Song)', 'Adele Adkins and Paul Epworth', 'Skyfall from Skyfall', '2012']]\n",
    "\n",
    "with open('oscars.csv', 'w', newline='') as csvfile:\n",
    "  import csv\n",
    "  csv_writer = csv.writer(csvfile)\n",
    "  csv_writer.writerow(csv_header_name)\n",
    "  csv_writer.writerows(each_row)"
   ]
  },
  {
   "cell_type": "code",
   "execution_count": 90,
   "metadata": {},
   "outputs": [
    {
     "name": "stdout",
     "output_type": "stream",
     "text": [
      "<re.Match object; span=(3, 6), match='abc'>\n",
      "None\n",
      "<re.Match object; span=(0, 10), match='ababababab'>\n",
      "(0, 10)\n",
      "['ab', 'ab', 'ab']\n",
      "cdcdcacbacbcd\n"
     ]
    }
   ],
   "source": [
    "import re\n",
    "pattern= re.compile(r'abc')\n",
    "matched=pattern.search('123abc678abc900ab')\n",
    "print(matched)\n",
    "\n",
    "matched=pattern.match('1abc678abc900ab')\n",
    "print(matched)\n",
    "\n",
    "pat=re.compile(r'(ab)*')\n",
    "match_object = pat.match('ababababab')\n",
    "print(match_object)\n",
    "print(match_object.span())\n",
    "\n",
    "pat=re.compile(r'(ab)')\n",
    "match_object = pat.findall('ababcacbacbab')\n",
    "print(match_object)\n",
    "\n",
    "match_object = pat.sub('cd','ababcacbacbab')\n",
    "print(match_object)"
   ]
  },
  {
   "cell_type": "code",
   "execution_count": 95,
   "metadata": {},
   "outputs": [
    {
     "name": "stdout",
     "output_type": "stream",
     "text": [
      "Emily has a three digit area code number\n",
      "Anna has a three digit area code number\n"
     ]
    }
   ],
   "source": [
    "# Program 10.1: Given an Input File Which Contains a List of Names and Phone Numbers Separated\n",
    "# by Spaces in the Following Format:\n",
    "'''Alex 80-23425525\n",
    "Emily 322-56775342\n",
    "Grace 20-24564555\n",
    "Anna 194-49611659'''\n",
    "# Phone Number Contains a 3- or 2-Digit Area Code and a Hyphen Followed By an 8-Digit Number.\n",
    "# Find All Names Having Phone Numbers with a 3-Digit Area Code Using Regular Expressions\n",
    "only_3_number_regex = re.compile(r'(\\w+)\\s+(\\d{3})-(\\d{8})')\n",
    "matches = only_3_number_regex.findall('''Alex 80-23425525\n",
    "Emily 322-56775342\n",
    "Grace 20-24564555\n",
    "Anna 194-49611659''')\n",
    "for match in matches:\n",
    "  print(match[0], \"has a three digit area code number\")"
   ]
  },
  {
   "cell_type": "code",
   "execution_count": null,
   "metadata": {},
   "outputs": [],
   "source": []
  }
 ],
 "metadata": {
  "kernelspec": {
   "display_name": "Python 3",
   "language": "python",
   "name": "python3"
  },
  "language_info": {
   "codemirror_mode": {
    "name": "ipython",
    "version": 3
   },
   "file_extension": ".py",
   "mimetype": "text/x-python",
   "name": "python",
   "nbconvert_exporter": "python",
   "pygments_lexer": "ipython3",
   "version": "3.11.9"
  }
 },
 "nbformat": 4,
 "nbformat_minor": 2
}
