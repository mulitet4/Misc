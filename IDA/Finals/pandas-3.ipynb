{
 "cells": [
  {
   "cell_type": "code",
   "execution_count": 5,
   "metadata": {},
   "outputs": [],
   "source": [
    "import pandas as pd\n",
    "import numpy as np\n",
    "def p(o):\n",
    "  print(o)\n",
    "  print()"
   ]
  },
  {
   "cell_type": "code",
   "execution_count": 20,
   "metadata": {},
   "outputs": [
    {
     "name": "stdout",
     "output_type": "stream",
     "text": [
      "        id name  price\n",
      "0     ball    a  12.33\n",
      "1   pencil    a  11.44\n",
      "2      pen    a  33.21\n",
      "3      mug    b  13.23\n",
      "4  ashtray    b  33.62\n",
      "\n",
      "       id name  color\n",
      "0  pencil    a  white\n",
      "1  pencil    a    red\n",
      "2    ball    b    red\n",
      "3     pen    c  black\n",
      "\n",
      "       id name_x  price name_y  color\n",
      "0    ball      a  12.33      b    red\n",
      "1  pencil      a  11.44      a  white\n",
      "2  pencil      a  11.44      a    red\n",
      "3     pen      a  33.21      c  black\n",
      "\n",
      "       id name  price  color\n",
      "0  pencil    a  11.44  white\n",
      "1  pencil    a  11.44    red\n",
      "2    ball    b    NaN    red\n",
      "3     pen    c    NaN  black\n",
      "\n",
      "        id name  price  color\n",
      "0     ball    a  12.33    NaN\n",
      "1   pencil    a  11.44  white\n",
      "2   pencil    a  11.44    red\n",
      "3      pen    a  33.21    NaN\n",
      "4      mug    b  13.23    NaN\n",
      "5  ashtray    b  33.62    NaN\n",
      "\n",
      "        id name  price  color\n",
      "0  ashtray    b  33.62    NaN\n",
      "1     ball    a  12.33    NaN\n",
      "2     ball    b    NaN    red\n",
      "3      mug    b  13.23    NaN\n",
      "4      pen    a  33.21    NaN\n",
      "5      pen    c    NaN  black\n",
      "6   pencil    a  11.44  white\n",
      "7   pencil    a  11.44    red\n",
      "\n"
     ]
    }
   ],
   "source": [
    "frame1 = pd.DataFrame( {'id':['ball','pencil','pen','mug','ashtray'],'name': ['a', 'a', 'a', 'b', 'b'], 'price': [12.33,11.44,33.21,13.23,33.62]})\n",
    "frame2 = pd.DataFrame({'id': ['pencil','pencil','ball','pen'], 'name': ['a', 'a', 'b', 'c'], 'color': ['white','red','red','black']})\n",
    "p(frame1)\n",
    "p(frame2)\n",
    "p(pd.merge(frame1, frame2, on=['id']))\n",
    "p(pd.merge(frame1, frame2, how='right'))\n",
    "p(pd.merge(frame1, frame2, how='left'))\n",
    "p(pd.merge(frame1, frame2, how='outer'))\n"
   ]
  },
  {
   "cell_type": "code",
   "execution_count": 32,
   "metadata": {},
   "outputs": [
    {
     "name": "stdout",
     "output_type": "stream",
     "text": [
      "        id name  price  color\n",
      "0     ball    a  12.33    NaN\n",
      "1   pencil    a  11.44    NaN\n",
      "2      pen    a  33.21    NaN\n",
      "3      mug    b  13.23    NaN\n",
      "4  ashtray    b  33.62    NaN\n",
      "0   pencil    a    NaN  white\n",
      "1   pencil    a    NaN    red\n",
      "2     ball    b    NaN    red\n",
      "3      pen    c    NaN  black\n",
      "\n",
      "        id name  price      id name  color\n",
      "0     ball    a  12.33  pencil    a  white\n",
      "1   pencil    a  11.44  pencil    a    red\n",
      "2      pen    a  33.21    ball    b    red\n",
      "3      mug    b  13.23     pen    c  black\n",
      "4  ashtray    b  33.62     NaN  NaN    NaN\n",
      "\n",
      "      id_l name_l  price    id_r name_r  color\n",
      "0     ball      a  12.33  pencil      a  white\n",
      "1   pencil      a  11.44  pencil      a    red\n",
      "2      pen      a  33.21    ball      b    red\n",
      "3      mug      b  13.23     pen      c  black\n",
      "4  ashtray      b  33.62     NaN    NaN    NaN\n",
      "\n",
      "   color       id name  price\n",
      "0  white     ball    a  12.33\n",
      "1    red   pencil    a  11.44\n",
      "2    red      pen    a  33.21\n",
      "3  black      mug    b  13.23\n",
      "4    NaN  ashtray    b  33.62\n",
      "\n"
     ]
    }
   ],
   "source": [
    "p(pd.concat([frame1, frame2], axis=0))\n",
    "p(pd.concat([frame1, frame2], axis=1))\n",
    "p(frame1.join(frame2, lsuffix='_l', rsuffix='_r'))\n",
    "p(frame1.combine_first(frame2))"
   ]
  },
  {
   "cell_type": "code",
   "execution_count": 36,
   "metadata": {},
   "outputs": [
    {
     "data": {
      "text/html": [
       "<div>\n",
       "<style scoped>\n",
       "    .dataframe tbody tr th:only-of-type {\n",
       "        vertical-align: middle;\n",
       "    }\n",
       "\n",
       "    .dataframe tbody tr th {\n",
       "        vertical-align: top;\n",
       "    }\n",
       "\n",
       "    .dataframe thead th {\n",
       "        text-align: right;\n",
       "    }\n",
       "</style>\n",
       "<table border=\"1\" class=\"dataframe\">\n",
       "  <thead>\n",
       "    <tr style=\"text-align: right;\">\n",
       "      <th></th>\n",
       "      <th>color</th>\n",
       "      <th>value</th>\n",
       "    </tr>\n",
       "  </thead>\n",
       "  <tbody>\n",
       "    <tr>\n",
       "      <th>3</th>\n",
       "      <td>red</td>\n",
       "      <td>3</td>\n",
       "    </tr>\n",
       "    <tr>\n",
       "      <th>4</th>\n",
       "      <td>white</td>\n",
       "      <td>2</td>\n",
       "    </tr>\n",
       "  </tbody>\n",
       "</table>\n",
       "</div>"
      ],
      "text/plain": [
       "   color  value\n",
       "3    red      3\n",
       "4  white      2"
      ]
     },
     "execution_count": 36,
     "metadata": {},
     "output_type": "execute_result"
    }
   ],
   "source": [
    "dframe = pd.DataFrame({ 'color': ['white','white','red','red','white'], 'value': [2,1,3,3,2]})\n",
    "dframe[dframe.duplicated()]"
   ]
  },
  {
   "cell_type": "code",
   "execution_count": 47,
   "metadata": {},
   "outputs": [
    {
     "name": "stdout",
     "output_type": "stream",
     "text": [
      "[[1 2 3]\n",
      " [4 5 6]\n",
      " [7 8 9]]\n",
      "\n",
      "[12 15 18]\n",
      "\n",
      "[ 6 15 24]\n",
      "\n",
      "[0.81649658 0.81649658 0.81649658]\n",
      "\n"
     ]
    }
   ],
   "source": [
    "a = np.arange(1, 10).reshape(3,3)\n",
    "p(a)\n",
    "p(a.sum(axis=0))\n",
    "p(a.sum(axis=1))\n",
    "p(a.std(axis=1))"
   ]
  },
  {
   "cell_type": "code",
   "execution_count": 60,
   "metadata": {},
   "outputs": [
    {
     "data": {
      "text/plain": [
       "(2.999, 28.0]    5\n",
       "(28.0, 55.0]     4\n",
       "(55.0, 87.0]     5\n",
       "(87.0, 99.0]     3\n",
       "Name: count, dtype: int64"
      ]
     },
     "execution_count": 60,
     "metadata": {},
     "output_type": "execute_result"
    }
   ],
   "source": [
    "results = [12,34,67,55,28,90,99,12,3,56,74,44,87,23,49,89,87]\n",
    "bins = [0,25,50,75,100]\n",
    "a = pd.cut(results, bins)\n",
    "a.value_counts()\n",
    "pd.qcut(results, q=4).value_counts()"
   ]
  },
  {
   "cell_type": "code",
   "execution_count": 83,
   "metadata": {},
   "outputs": [
    {
     "name": "stdout",
     "output_type": "stream",
     "text": [
      "          0         1         2\n",
      "0  0.643957  0.280958 -0.056089\n",
      "1  0.818225 -0.419939 -0.510617\n",
      "2  0.629852  1.615799  1.358645\n",
      "3 -0.005345  2.454903  0.399155\n",
      "4  1.293001  1.784138 -0.162916\n",
      "5  0.831118 -0.916024  0.297600\n",
      "6  0.913233 -1.071772  0.036292\n",
      "7  0.361496  1.595464 -0.140473\n",
      "8 -0.364809  2.946516 -0.868314\n",
      "\n",
      "[0 2 1]\n",
      "\n",
      "[6 6 3 4 5]\n",
      "\n",
      "          0         1         2\n",
      "0  0.643957  0.280958 -0.056089\n",
      "2  0.629852  1.615799  1.358645\n",
      "1  0.818225 -0.419939 -0.510617\n",
      "\n",
      "          0         1         2\n",
      "6  0.913233 -1.071772  0.036292\n",
      "6  0.913233 -1.071772  0.036292\n",
      "3 -0.005345  2.454903  0.399155\n",
      "4  1.293001  1.784138 -0.162916\n",
      "5  0.831118 -0.916024  0.297600\n",
      "\n"
     ]
    }
   ],
   "source": [
    "a = pd.DataFrame(np.random.randn(9, 3))\n",
    "p(a)\n",
    "b = np.random.permutation(3)\n",
    "p(b)\n",
    "c = np.random.randint(0, len(a), size=5)\n",
    "p(c)\n",
    "p(a.take(b))\n",
    "p(a.take(c))"
   ]
  },
  {
   "cell_type": "code",
   "execution_count": null,
   "metadata": {},
   "outputs": [
    {
     "name": "stdout",
     "output_type": "stream",
     "text": [
      "color\n",
      "green    2.025\n",
      "red      2.380\n",
      "white    5.560\n",
      "Name: price1, dtype: float64\n",
      "\n"
     ]
    },
    {
     "data": {
      "text/plain": [
       "color\n",
       "green    4.05\n",
       "red      4.76\n",
       "white    5.56\n",
       "Name: price1, dtype: float64"
      ]
     },
     "execution_count": 88,
     "metadata": {},
     "output_type": "execute_result"
    }
   ],
   "source": [
    "frame = pd.DataFrame({ 'color': ['white','red','green','red','green'], 'object': ['pen','pencil','pencil','ashtray','pen'], 'price1' : [5.56,4.20,1.30,0.56,2.75], 'price2' : [4.75,4.12,1.60,0.75,3.15]})\n",
    "\n",
    "g = frame['price1'].groupby(frame['color'])\n",
    "p(g.mean())\n",
    "p(g.sum())"
   ]
  }
 ],
 "metadata": {
  "kernelspec": {
   "display_name": "3.13.0",
   "language": "python",
   "name": "python3"
  },
  "language_info": {
   "codemirror_mode": {
    "name": "ipython",
    "version": 3
   },
   "file_extension": ".py",
   "mimetype": "text/x-python",
   "name": "python",
   "nbconvert_exporter": "python",
   "pygments_lexer": "ipython3",
   "version": "3.13.0"
  }
 },
 "nbformat": 4,
 "nbformat_minor": 2
}
