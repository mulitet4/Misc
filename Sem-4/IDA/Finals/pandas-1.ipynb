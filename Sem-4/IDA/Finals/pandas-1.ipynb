{
 "cells": [
  {
   "cell_type": "code",
   "execution_count": 22,
   "metadata": {},
   "outputs": [],
   "source": [
    "import pandas as pd\n",
    "import numpy as np\n",
    "\n",
    "def p(o):\n",
    "  print(o)\n",
    "  print()"
   ]
  },
  {
   "cell_type": "code",
   "execution_count": 23,
   "metadata": {},
   "outputs": [
    {
     "name": "stdout",
     "output_type": "stream",
     "text": [
      "[2 4 6 8]\n",
      "\n",
      "a    2\n",
      "b    4\n",
      "c    6\n",
      "d    8\n",
      "dtype: int64\n",
      "\n"
     ]
    }
   ],
   "source": [
    "a = pd.Series([1,2,3,4])\n",
    "b = np.array([2,4,6,8])\n",
    "c = pd.Series(b, index=['a','b','c','d'])\n",
    "\n",
    "p(b)\n",
    "p(c)"
   ]
  },
  {
   "cell_type": "code",
   "execution_count": 24,
   "metadata": {},
   "outputs": [
    {
     "name": "stdout",
     "output_type": "stream",
     "text": [
      "[1 0 2 3]\n",
      "\n",
      "1    2\n",
      "2    2\n",
      "0    1\n",
      "3    1\n",
      "Name: count, dtype: int64\n",
      "\n",
      "white      True\n",
      "white      True\n",
      "blue      False\n",
      "green      True\n",
      "green     False\n",
      "yellow    False\n",
      "dtype: bool\n",
      "\n",
      "white    1\n",
      "white    0\n",
      "dtype: int64\n",
      "\n",
      "0    0.0\n",
      "1    1.0\n",
      "2    NaN\n",
      "3    2.0\n",
      "dtype: float64\n",
      "\n"
     ]
    }
   ],
   "source": [
    "d = pd.Series([1,0,2,1,2,3], index=['white','white','blue','green','green','yellow'])\n",
    "\n",
    "p(d.unique()) # prints in order found\n",
    "p(d.value_counts()) # prints descending order of occurence\n",
    "p(d.isin([0, 1]))\n",
    "p(d['white'])\n",
    "p(pd.Series([0,1,np.nan, 2]))"
   ]
  },
  {
   "cell_type": "code",
   "execution_count": 25,
   "metadata": {},
   "outputs": [
    {
     "name": "stdout",
     "output_type": "stream",
     "text": [
      "1\n",
      "\n",
      "green        red\n",
      "blue      yellow\n",
      "orange    orange\n",
      "yellow      blue\n",
      "red        green\n",
      "dtype: object\n",
      "\n"
     ]
    }
   ],
   "source": [
    "# Series from dict and arr\n",
    "\n",
    "e = {'a': 1, 'b': 2, 'c': 3}\n",
    "f = pd.Series(e)\n",
    "p(f['a'])\n",
    "\n",
    "colors = ['red','yellow','orange','blue','green']\n",
    "g = pd.Series(colors, colors[::-1])\n",
    "p(g)"
   ]
  },
  {
   "cell_type": "code",
   "execution_count": 26,
   "metadata": {},
   "outputs": [
    {
     "name": "stdout",
     "output_type": "stream",
     "text": [
      "red       100\n",
      "yellow    200\n",
      "orange    300\n",
      "dtype: int64\n",
      "\n",
      "yellow    400\n",
      "orange    500\n",
      "blue      600\n",
      "dtype: int64\n",
      "\n",
      "blue        NaN\n",
      "orange    800.0\n",
      "red         NaN\n",
      "yellow    600.0\n",
      "dtype: float64\n",
      "\n",
      "blue        NaN\n",
      "orange   -200.0\n",
      "red         NaN\n",
      "yellow   -200.0\n",
      "dtype: float64\n",
      "\n",
      "blue           NaN\n",
      "orange    150000.0\n",
      "red            NaN\n",
      "yellow     80000.0\n",
      "dtype: float64\n",
      "\n",
      "blue      NaN\n",
      "orange    0.6\n",
      "red       NaN\n",
      "yellow    0.5\n",
      "dtype: float64\n",
      "\n"
     ]
    }
   ],
   "source": [
    "# Operations on Series\n",
    "h = pd.Series([100, 200, 300], index=colors[0:3])\n",
    "i = pd.Series([400, 500, 600], index=colors[1:4])\n",
    "\n",
    "p(h)\n",
    "p(i)\n",
    "p(h+i)\n",
    "p(h-i)\n",
    "p(h*i)\n",
    "p(h/i)"
   ]
  },
  {
   "cell_type": "code",
   "execution_count": 27,
   "metadata": {},
   "outputs": [
    {
     "name": "stdout",
     "output_type": "stream",
     "text": [
      "red       100\n",
      "yellow    200\n",
      "orange    300\n",
      "dtype: int64\n",
      "\n",
      "Index(['red', 'yellow', 'orange'], dtype='object')\n",
      "\n",
      "[100 200 300]\n",
      "\n"
     ]
    }
   ],
   "source": [
    "p(h)\n",
    "p(h.index)\n",
    "p(h.values)"
   ]
  },
  {
   "cell_type": "code",
   "execution_count": 28,
   "metadata": {},
   "outputs": [
    {
     "name": "stdout",
     "output_type": "stream",
     "text": [
      "item   color  object  price\n",
      "id                         \n",
      "0       blue    ball    1.2\n",
      "1      green     pen    1.0\n",
      "2     yellow  pencil    0.6\n",
      "3        red   paper    0.9\n",
      "4      white     mug    1.7\n",
      "\n",
      "RangeIndex(start=0, stop=5, step=1, name='id')\n",
      "\n",
      "Index(['color', 'object', 'price'], dtype='object', name='item')\n",
      "\n",
      "[['blue' 'ball' 1.2]\n",
      " ['green' 'pen' 1.0]\n",
      " ['yellow' 'pencil' 0.6]\n",
      " ['red' 'paper' 0.9]\n",
      " ['white' 'mug' 1.7]]\n",
      "\n"
     ]
    }
   ],
   "source": [
    "# DF from dict[str, list[any]]\n",
    "data = {\n",
    "  'color' : ['blue','green','yellow','red','white'],\n",
    "  'object' : ['ball','pen','pencil','paper','mug'],\n",
    "  'price' : [1.2,1.0,0.6,0.9,1.7]\n",
    "}\n",
    "\n",
    "j = pd.DataFrame(data)\n",
    "j.index.name = 'id'\n",
    "j.columns.name = 'item'\n",
    "p(j)\n",
    "p(j.index)\n",
    "p(j.columns)\n",
    "p(j.values)"
   ]
  },
  {
   "cell_type": "code",
   "execution_count": 29,
   "metadata": {},
   "outputs": [
    {
     "name": "stdout",
     "output_type": "stream",
     "text": [
      "id\n",
      "0      blue\n",
      "1     green\n",
      "2    yellow\n",
      "3       red\n",
      "4     white\n",
      "Name: color, dtype: object\n",
      "\n",
      "item\n",
      "color     green\n",
      "object      pen\n",
      "price       1.0\n",
      "Name: 1, dtype: object\n",
      "\n",
      "item  color object  price\n",
      "id                       \n",
      "0      blue   ball    1.2\n",
      "1     green    pen    1.0\n",
      "\n"
     ]
    }
   ],
   "source": [
    "p(j.color)\n",
    "p(j.loc[1])\n",
    "p(j[0:2])"
   ]
  },
  {
   "cell_type": "code",
   "execution_count": 44,
   "metadata": {},
   "outputs": [
    {
     "name": "stdout",
     "output_type": "stream",
     "text": [
      "item   color  object  price  new\n",
      "id                              \n",
      "0       blue    ball    1.2   12\n",
      "1      green     pen    1.0   12\n",
      "2     yellow  pencil    9.0   12\n",
      "3        red   paper    0.9   12\n",
      "4      white     mug    1.7   12\n",
      "\n",
      "item   color  object  price  new\n",
      "id                              \n",
      "0       blue    ball    1.2   12\n",
      "1      green     pen    1.0   13\n",
      "2     yellow  pencil    9.0   14\n",
      "3        red   paper    0.9   15\n",
      "4      white     mug    1.7   16\n",
      "\n"
     ]
    }
   ],
   "source": [
    "j['new'] = 12\n",
    "p(j)\n",
    "j['new'] = pd.Series([12, 13, 14, 15, 16])\n",
    "j.loc[2, 'price'] = 9\n",
    "p(j)"
   ]
  },
  {
   "cell_type": "code",
   "execution_count": 31,
   "metadata": {},
   "outputs": [
    {
     "name": "stdout",
     "output_type": "stream",
     "text": [
      "aryan     red  blue\n",
      "nayra              \n",
      "a          10  20.0\n",
      "b      [1, 2]   NaN\n",
      "c         NaN  30.0\n",
      "\n",
      "nayra     a       b     c\n",
      "aryan                    \n",
      "red      10  [1, 2]   NaN\n",
      "blue   20.0     NaN  30.0\n",
      "\n"
     ]
    }
   ],
   "source": [
    "# DF from nested dict\n",
    "k = pd.DataFrame({'red': {'a': 10, 'b': [1,2]}, 'blue': {'a': 20, 'c': 30}})\n",
    "k.columns.name = 'aryan'\n",
    "k.index.name = 'nayra'\n",
    "p(k)\n",
    "p(k.T)"
   ]
  },
  {
   "cell_type": "code",
   "execution_count": 43,
   "metadata": {},
   "outputs": [
    {
     "name": "stdout",
     "output_type": "stream",
     "text": [
      "0    4\n",
      "1    3\n",
      "0    2\n",
      "1    1\n",
      "dtype: int64\n",
      "\n",
      "1\n",
      "\n",
      "0\n",
      "\n",
      "True\n",
      "\n",
      "False\n",
      "\n",
      "Index([0, 1], dtype='int64')\n",
      "\n",
      "0    2\n",
      "1    2\n",
      "Name: count, dtype: int64\n",
      "\n"
     ]
    }
   ],
   "source": [
    "l = pd.Series([1,2,3,4][::-1], index=[0, 1, 0, 1])\n",
    "p(l)\n",
    "p(l.idxmin())\n",
    "p(l.idxmax())\n",
    "p(l.is_unique)\n",
    "p(l.index.is_unique)\n",
    "p(l.index.unique())\n",
    "p(l.index.value_counts())"
   ]
  },
  {
   "cell_type": "code",
   "execution_count": null,
   "metadata": {},
   "outputs": [
    {
     "name": "stdout",
     "output_type": "stream",
     "text": [
      "aryan     red  blue\n",
      "nayra              \n",
      "a          10  20.0\n",
      "b      [1, 2]   NaN\n",
      "c         NaN  30.0\n",
      "\n",
      "aryan     red  blue\n",
      "nayra              \n",
      "b      [1, 2]   NaN\n",
      "c         NaN  30.0\n",
      "\n",
      "aryan  blue\n",
      "nayra      \n",
      "a      20.0\n",
      "b       NaN\n",
      "c      30.0\n",
      "\n",
      "        ball  pen  pencil  paper\n",
      "red        0    1       2      3\n",
      "blue       4    5       6      7\n",
      "yellow     8    9      10     11\n",
      "white     12   13      14     15\n",
      "\n",
      "        mug  pen  ball\n",
      "blue      0    1     2\n",
      "green     3    4     5\n",
      "white     6    7     8\n",
      "yellow    9   10    11\n",
      "\n"
     ]
    },
    {
     "data": {
      "text/html": [
       "<div>\n",
       "<style scoped>\n",
       "    .dataframe tbody tr th:only-of-type {\n",
       "        vertical-align: middle;\n",
       "    }\n",
       "\n",
       "    .dataframe tbody tr th {\n",
       "        vertical-align: top;\n",
       "    }\n",
       "\n",
       "    .dataframe thead th {\n",
       "        text-align: right;\n",
       "    }\n",
       "</style>\n",
       "<table border=\"1\" class=\"dataframe\">\n",
       "  <thead>\n",
       "    <tr style=\"text-align: right;\">\n",
       "      <th></th>\n",
       "      <th>ball</th>\n",
       "      <th>mug</th>\n",
       "      <th>paper</th>\n",
       "      <th>pen</th>\n",
       "      <th>pencil</th>\n",
       "    </tr>\n",
       "  </thead>\n",
       "  <tbody>\n",
       "    <tr>\n",
       "      <th>blue</th>\n",
       "      <td>6.0</td>\n",
       "      <td>NaN</td>\n",
       "      <td>NaN</td>\n",
       "      <td>6.0</td>\n",
       "      <td>NaN</td>\n",
       "    </tr>\n",
       "    <tr>\n",
       "      <th>green</th>\n",
       "      <td>NaN</td>\n",
       "      <td>NaN</td>\n",
       "      <td>NaN</td>\n",
       "      <td>NaN</td>\n",
       "      <td>NaN</td>\n",
       "    </tr>\n",
       "    <tr>\n",
       "      <th>red</th>\n",
       "      <td>NaN</td>\n",
       "      <td>NaN</td>\n",
       "      <td>NaN</td>\n",
       "      <td>NaN</td>\n",
       "      <td>NaN</td>\n",
       "    </tr>\n",
       "    <tr>\n",
       "      <th>white</th>\n",
       "      <td>20.0</td>\n",
       "      <td>NaN</td>\n",
       "      <td>NaN</td>\n",
       "      <td>20.0</td>\n",
       "      <td>NaN</td>\n",
       "    </tr>\n",
       "    <tr>\n",
       "      <th>yellow</th>\n",
       "      <td>19.0</td>\n",
       "      <td>NaN</td>\n",
       "      <td>NaN</td>\n",
       "      <td>19.0</td>\n",
       "      <td>NaN</td>\n",
       "    </tr>\n",
       "  </tbody>\n",
       "</table>\n",
       "</div>"
      ],
      "text/plain": [
       "        ball  mug  paper   pen  pencil\n",
       "blue     6.0  NaN    NaN   6.0     NaN\n",
       "green    NaN  NaN    NaN   NaN     NaN\n",
       "red      NaN  NaN    NaN   NaN     NaN\n",
       "white   20.0  NaN    NaN  20.0     NaN\n",
       "yellow  19.0  NaN    NaN  19.0     NaN"
      ]
     },
     "execution_count": 45,
     "metadata": {},
     "output_type": "execute_result"
    }
   ],
   "source": [
    "# Dropping, Alignment\n",
    "p(k)\n",
    "p(k.drop(['a'], axis=0))\n",
    "p(k.drop(['red'], axis=1))\n",
    "\n",
    "m = pd.DataFrame(\n",
    "  np.arange(16).reshape((4,4)), \n",
    "  index=['red','blue','yellow','white'], \n",
    "  columns=['ball','pen','pencil','paper']\n",
    ")\n",
    "\n",
    "n = pd.DataFrame(\n",
    "  np.arange(12).reshape((4,3)),\n",
    "  index=['blue','green','white','yellow'],\n",
    "  columns=['mug','pen','ball']\n",
    ")\n",
    "\n",
    "p(m)\n",
    "p(n)\n",
    "m+n"
   ]
  },
  {
   "cell_type": "code",
   "execution_count": 42,
   "metadata": {},
   "outputs": [
    {
     "name": "stdout",
     "output_type": "stream",
     "text": [
      "ball      0\n",
      "pen       1\n",
      "pencil    2\n",
      "paper     3\n",
      "dtype: int64\n",
      "\n",
      "        ball  pen  pencil  paper\n",
      "red        0    1       2      3\n",
      "blue       4    5       6      7\n",
      "yellow     8    9      10     11\n",
      "white     12   13      14     15\n",
      "\n"
     ]
    },
    {
     "data": {
      "text/html": [
       "<div>\n",
       "<style scoped>\n",
       "    .dataframe tbody tr th:only-of-type {\n",
       "        vertical-align: middle;\n",
       "    }\n",
       "\n",
       "    .dataframe tbody tr th {\n",
       "        vertical-align: top;\n",
       "    }\n",
       "\n",
       "    .dataframe thead th {\n",
       "        text-align: right;\n",
       "    }\n",
       "</style>\n",
       "<table border=\"1\" class=\"dataframe\">\n",
       "  <thead>\n",
       "    <tr style=\"text-align: right;\">\n",
       "      <th></th>\n",
       "      <th>ball</th>\n",
       "      <th>pen</th>\n",
       "      <th>pencil</th>\n",
       "      <th>paper</th>\n",
       "    </tr>\n",
       "  </thead>\n",
       "  <tbody>\n",
       "    <tr>\n",
       "      <th>red</th>\n",
       "      <td>0</td>\n",
       "      <td>0</td>\n",
       "      <td>0</td>\n",
       "      <td>0</td>\n",
       "    </tr>\n",
       "    <tr>\n",
       "      <th>blue</th>\n",
       "      <td>4</td>\n",
       "      <td>4</td>\n",
       "      <td>4</td>\n",
       "      <td>4</td>\n",
       "    </tr>\n",
       "    <tr>\n",
       "      <th>yellow</th>\n",
       "      <td>8</td>\n",
       "      <td>8</td>\n",
       "      <td>8</td>\n",
       "      <td>8</td>\n",
       "    </tr>\n",
       "    <tr>\n",
       "      <th>white</th>\n",
       "      <td>12</td>\n",
       "      <td>12</td>\n",
       "      <td>12</td>\n",
       "      <td>12</td>\n",
       "    </tr>\n",
       "  </tbody>\n",
       "</table>\n",
       "</div>"
      ],
      "text/plain": [
       "        ball  pen  pencil  paper\n",
       "red        0    0       0      0\n",
       "blue       4    4       4      4\n",
       "yellow     8    8       8      8\n",
       "white     12   12      12     12"
      ]
     },
     "execution_count": 42,
     "metadata": {},
     "output_type": "execute_result"
    }
   ],
   "source": [
    "ser = pd.Series(np.arange(4), index=['ball','pen','pencil','paper'])\n",
    "p(ser)\n",
    "p(m)\n",
    "m - ser"
   ]
  },
  {
   "cell_type": "code",
   "execution_count": 35,
   "metadata": {},
   "outputs": [
    {
     "name": "stdout",
     "output_type": "stream",
     "text": [
      "        mug  pen  ball\n",
      "blue      0    1     2\n",
      "green     3    4     5\n",
      "white     6    7     8\n",
      "yellow    9   10    11\n",
      "\n",
      "mug     9\n",
      "pen     9\n",
      "ball    9\n",
      "dtype: int64\n",
      "\n",
      "blue      2\n",
      "green     2\n",
      "white     2\n",
      "yellow    2\n",
      "dtype: int64\n",
      "\n",
      "     mug  pen  ball\n",
      "min    0    1     2\n",
      "max    9   10    11\n",
      "\n",
      "        min  max\n",
      "blue      0    2\n",
      "green     3    5\n",
      "white     6    8\n",
      "yellow    9   11\n",
      "\n"
     ]
    }
   ],
   "source": [
    "f = lambda x: x.max() - x.min()\n",
    "p(n)\n",
    "p(n.apply(f))\n",
    "p(n.apply(f, axis=1))\n",
    "\n",
    "def f(x):\n",
    "  return pd.Series([x.min(), x.max()], index=['min', 'max'])\n",
    "\n",
    "p(n.apply(f, axis=0))\n",
    "p(n.apply(f, axis=1))"
   ]
  },
  {
   "cell_type": "code",
   "execution_count": 36,
   "metadata": {},
   "outputs": [
    {
     "name": "stdout",
     "output_type": "stream",
     "text": [
      "        ball  pen  pencil  paper\n",
      "red        0    1       2      3\n",
      "blue       4    5       6      7\n",
      "yellow     8    9      10     11\n",
      "white     12   13      14     15\n",
      "\n",
      "            ball        pen     pencil      paper\n",
      "count   4.000000   4.000000   4.000000   4.000000\n",
      "mean    6.000000   7.000000   8.000000   9.000000\n",
      "std     5.163978   5.163978   5.163978   5.163978\n",
      "min     0.000000   1.000000   2.000000   3.000000\n",
      "25%     3.000000   4.000000   5.000000   6.000000\n",
      "50%     6.000000   7.000000   8.000000   9.000000\n",
      "75%     9.000000  10.000000  11.000000  12.000000\n",
      "max    12.000000  13.000000  14.000000  15.000000\n",
      "\n",
      "        ball  pen  pencil  paper\n",
      "blue       4    5       6      7\n",
      "red        0    1       2      3\n",
      "white     12   13      14     15\n",
      "yellow     8    9      10     11\n",
      "\n",
      "        ball  pen  pencil  paper\n",
      "red        0    1       2      3\n",
      "blue       4    5       6      7\n",
      "yellow     8    9      10     11\n",
      "white     12   13      14     15\n",
      "\n",
      "ball      0\n",
      "paper     3\n",
      "pen       1\n",
      "pencil    2\n",
      "dtype: int64\n",
      "\n",
      "ball      1.0\n",
      "pen       2.0\n",
      "pencil    3.0\n",
      "paper     4.0\n",
      "dtype: float64\n",
      "\n"
     ]
    },
    {
     "ename": "TypeError",
     "evalue": "DataFrame.sort_index() got an unexpected keyword argument 'by'",
     "output_type": "error",
     "traceback": [
      "\u001b[1;31m---------------------------------------------------------------------------\u001b[0m",
      "\u001b[1;31mTypeError\u001b[0m                                 Traceback (most recent call last)",
      "Cell \u001b[1;32mIn[36], line 7\u001b[0m\n\u001b[0;32m      5\u001b[0m p(ser\u001b[38;5;241m.\u001b[39msort_index())\n\u001b[0;32m      6\u001b[0m p(ser\u001b[38;5;241m.\u001b[39mrank())\n\u001b[1;32m----> 7\u001b[0m p(\u001b[43mm\u001b[49m\u001b[38;5;241;43m.\u001b[39;49m\u001b[43msort_index\u001b[49m\u001b[43m(\u001b[49m\u001b[43mby\u001b[49m\u001b[38;5;241;43m=\u001b[39;49m\u001b[43m[\u001b[49m\u001b[38;5;124;43m'\u001b[39;49m\u001b[38;5;124;43mball\u001b[39;49m\u001b[38;5;124;43m'\u001b[39;49m\u001b[43m]\u001b[49m\u001b[43m)\u001b[49m)\n",
      "\u001b[1;31mTypeError\u001b[0m: DataFrame.sort_index() got an unexpected keyword argument 'by'"
     ]
    }
   ],
   "source": [
    "p(m)\n",
    "p(m.describe())\n",
    "p(m.sort_index())\n",
    "p(m.sort_values(by='ball'))\n",
    "p(ser.sort_index())\n",
    "p(ser.rank())\n",
    "p(m.sort_index(by=['ball']))"
   ]
  },
  {
   "cell_type": "code",
   "execution_count": 37,
   "metadata": {},
   "outputs": [
    {
     "name": "stdout",
     "output_type": "stream",
     "text": [
      "        ball  pen  pencil  paper\n",
      "red        0    1       2      3\n",
      "blue       4    5       6      7\n",
      "yellow     8    9      10     11\n",
      "white     12   13      14     15\n",
      "\n",
      "        ball  pen  pencil  paper\n",
      "ball     1.0  1.0     1.0    1.0\n",
      "pen      1.0  1.0     1.0    1.0\n",
      "pencil   1.0  1.0     1.0    1.0\n",
      "paper    1.0  1.0     1.0    1.0\n",
      "\n",
      "0.7745966692414834\n",
      "\n",
      "0.8571428571428571\n",
      "\n"
     ]
    }
   ],
   "source": [
    "seq2 = pd.Series([3,4,3,4,5,4,3,2],['2006','2007','2008','2009','2010','2011','2012','2013'])\n",
    "seq = pd.Series([1,2,3,4,4,3,2,1],['2006','2007','2008','2009','2010','2011','2012','2013'])\n",
    "p(m)\n",
    "p(m.corr())\n",
    "p(seq2.corr(seq))\n",
    "p(seq2.cov(seq))"
   ]
  },
  {
   "cell_type": "code",
   "execution_count": 38,
   "metadata": {},
   "outputs": [
    {
     "name": "stdout",
     "output_type": "stream",
     "text": [
      "0    1.0\n",
      "1    2.0\n",
      "2    NaN\n",
      "3    4.0\n",
      "dtype: float64\n",
      "\n",
      "0    1.0\n",
      "1    2.0\n",
      "3    4.0\n",
      "dtype: float64\n",
      "\n",
      "0    1.0\n",
      "1    2.0\n",
      "3    4.0\n",
      "dtype: float64\n",
      "\n",
      "0    1.0\n",
      "1    2.0\n",
      "3    4.0\n",
      "dtype: float64\n",
      "\n"
     ]
    }
   ],
   "source": [
    "ser = pd.Series([1,2,np.nan,4])\n",
    "p(ser)\n",
    "p(ser.dropna())\n",
    "p(ser[ser.notna()])\n",
    "p(ser[ser.notnull()])"
   ]
  },
  {
   "cell_type": "code",
   "execution_count": 39,
   "metadata": {},
   "outputs": [
    {
     "name": "stdout",
     "output_type": "stream",
     "text": [
      "a  5    1\n",
      "   1    2\n",
      "b  2    3\n",
      "c  2    4\n",
      "dtype: int64\n",
      "\n",
      "5    1\n",
      "1    2\n",
      "dtype: int64\n",
      "\n",
      "2\n",
      "\n",
      "a  5    1\n",
      "   1    2\n",
      "dtype: int64\n",
      "\n",
      "a  5    1\n",
      "   1    2\n",
      "dtype: int64\n",
      "\n"
     ]
    },
    {
     "name": "stderr",
     "output_type": "stream",
     "text": [
      "C:\\Users\\aryan\\AppData\\Local\\Temp\\ipykernel_4208\\289443534.py:4: FutureWarning: Series.__getitem__ treating keys as positions is deprecated. In a future version, integer keys will always be treated as labels (consistent with DataFrame behavior). To access a value by position, use `ser.iloc[pos]`\n",
      "  p(mser[1])\n"
     ]
    }
   ],
   "source": [
    "mser = pd.Series((1,2,3,4), index=[['a','a','b','c'],[5,1,2,2]])\n",
    "p(mser)\n",
    "p(mser['a'])\n",
    "p(mser[1])\n",
    "p(mser[:2])\n",
    "p(mser[:'a'])"
   ]
  },
  {
   "cell_type": "code",
   "execution_count": 40,
   "metadata": {},
   "outputs": [
    {
     "data": {
      "text/plain": [
       "white  up       0.391424\n",
       "       down     0.949336\n",
       "       right    0.579576\n",
       "blue   up       0.678146\n",
       "       down     0.786210\n",
       "red    up       0.634139\n",
       "       down     0.057947\n",
       "       left     0.894720\n",
       "dtype: float64"
      ]
     },
     "execution_count": 40,
     "metadata": {},
     "output_type": "execute_result"
    }
   ],
   "source": [
    "mser2 = pd.Series(np.random.rand(8), index=[['white','white','white','blue','blue','red','red','red'], ['up','down','right','up','down','up','down','left']])\n",
    "mser2"
   ]
  },
  {
   "cell_type": "code",
   "execution_count": 47,
   "metadata": {},
   "outputs": [
    {
     "name": "stdout",
     "output_type": "stream",
     "text": [
      "a  5    1\n",
      "   1    2\n",
      "b  2    3\n",
      "c  2    4\n",
      "dtype: int64\n",
      "\n",
      "     1    2    5\n",
      "a  2.0  NaN  1.0\n",
      "b  NaN  3.0  NaN\n",
      "c  NaN  4.0  NaN\n",
      "\n",
      "        ball  pen  pencil  paper\n",
      "red        0    1       2      3\n",
      "blue       4    5       6      7\n",
      "yellow     8    9      10     11\n",
      "white     12   13      14     15\n",
      "\n",
      "red     ball       0\n",
      "        pen        1\n",
      "        pencil     2\n",
      "        paper      3\n",
      "blue    ball       4\n",
      "        pen        5\n",
      "        pencil     6\n",
      "        paper      7\n",
      "yellow  ball       8\n",
      "        pen        9\n",
      "        pencil    10\n",
      "        paper     11\n",
      "white   ball      12\n",
      "        pen       13\n",
      "        pencil    14\n",
      "        paper     15\n",
      "dtype: int64\n",
      "\n"
     ]
    }
   ],
   "source": [
    "p(mser)\n",
    "p(mser.unstack())\n",
    "p(m)\n",
    "p(m.stack())"
   ]
  },
  {
   "cell_type": "code",
   "execution_count": null,
   "metadata": {},
   "outputs": [],
   "source": []
  }
 ],
 "metadata": {
  "kernelspec": {
   "display_name": "3.13.0",
   "language": "python",
   "name": "python3"
  },
  "language_info": {
   "codemirror_mode": {
    "name": "ipython",
    "version": 3
   },
   "file_extension": ".py",
   "mimetype": "text/x-python",
   "name": "python",
   "nbconvert_exporter": "python",
   "pygments_lexer": "ipython3",
   "version": "3.13.0"
  }
 },
 "nbformat": 4,
 "nbformat_minor": 2
}
