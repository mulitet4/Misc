{
 "cells": [
  {
   "cell_type": "code",
   "execution_count": 2,
   "metadata": {},
   "outputs": [
    {
     "data": {
      "text/plain": [
       "3"
      ]
     },
     "execution_count": 2,
     "metadata": {},
     "output_type": "execute_result"
    }
   ],
   "source": [
    "def largest_of_three(x,y,z):\n",
    "  if(x>y and x>z):\n",
    "    return x\n",
    "  elif(y>z and y>z):\n",
    "    return y\n",
    "  else:\n",
    "    return z\n",
    "  \n",
    "largest_of_three(1,2,3)"
   ]
  },
  {
   "cell_type": "code",
   "execution_count": 6,
   "metadata": {},
   "outputs": [
    {
     "name": "stdout",
     "output_type": "stream",
     "text": [
      "e\n",
      "l\n",
      "l\n",
      "o\n"
     ]
    }
   ],
   "source": [
    "def common_in_string(a: str, b: str):\n",
    "  for char in a:\n",
    "    if char in b:\n",
    "      print(char)\n",
    "\n",
    "common_in_string(\"hello\", \"jello\")"
   ]
  },
  {
   "cell_type": "code",
   "execution_count": 80,
   "metadata": {},
   "outputs": [
    {
     "name": "stdout",
     "output_type": "stream",
     "text": [
      "Number of words: 3\n",
      "Number of lowercase: 4\n",
      "Number of uppercase: 2\n",
      "Number of digits: 5\n",
      "Number of roman + digits: 6\n"
     ]
    }
   ],
   "source": [
    "def string_stats(a: str):\n",
    "  print(\"Number of words: \" + str(len(a.split(\" \"))))\n",
    "  lower = 0\n",
    "  upper = 0\n",
    "  digit = 0\n",
    "  numeral = 0\n",
    "\n",
    "  for char in a:\n",
    "    if(char.islower()):\n",
    "      lower += 1\n",
    "    elif(char.isupper()):\n",
    "      upper += 1\n",
    "    elif(char.isdigit()):\n",
    "      digit += 1\n",
    "    if(char.isnumeric()):\n",
    "      numeral += 1\n",
    "\n",
    "  print(\"Number of lowercase: \" + str(lower))\n",
    "  print(\"Number of uppercase: \" + str(upper))\n",
    "  print(\"Number of digits: \" + str(digit))\n",
    "  print(\"Number of roman + digits: \" + str(numeral))\n",
    "\n",
    "string_stats(\"Hello123 1.5 Ⅱ\")"
   ]
  },
  {
   "cell_type": "code",
   "execution_count": 77,
   "metadata": {},
   "outputs": [
    {
     "data": {
      "text/plain": [
       "'AEllO B'"
      ]
     },
     "execution_count": 77,
     "metadata": {},
     "output_type": "execute_result"
    }
   ],
   "source": [
    "def toggle_case(a: str) -> str:\n",
    "  b: str = \"\"\n",
    "  diff = ord('A') - ord('a')\n",
    "\n",
    "  for i, char in enumerate(a):\n",
    "    if(not (ord(char) >= ord('a') and ord(char) < ord('z')) and not (ord(char) > ord('A') and ord(char) < ord('Z'))):\n",
    "      b += char\n",
    "      continue\n",
    "\n",
    "    if(ord(char) - ord('A') > 25):\n",
    "      b += chr(ord(char) - 32)\n",
    "    elif(ord(char) - ord('A') < 26):\n",
    "      b += chr(ord(char) + 32)\n",
    "\n",
    "  return str(b)\n",
    "\n",
    "toggle_case(\"aeLLo b\")"
   ]
  },
  {
   "cell_type": "code",
   "execution_count": 69,
   "metadata": {},
   "outputs": [
    {
     "name": "stdout",
     "output_type": "stream",
     "text": [
      "hello\n",
      "hello\n",
      "hello\n"
     ]
    }
   ],
   "source": [
    "def print_string():\n",
    "  a: str = input(\"Enter string: \")\n",
    "  n: int = int(input(\"Enter number of times: \"))\n",
    "\n",
    "  for i in range(n):\n",
    "    print(a)\n",
    "\n",
    "print_string()"
   ]
  }
 ],
 "metadata": {
  "kernelspec": {
   "display_name": "Python 3",
   "language": "python",
   "name": "python3"
  },
  "language_info": {
   "codemirror_mode": {
    "name": "ipython",
    "version": 3
   },
   "file_extension": ".py",
   "mimetype": "text/x-python",
   "name": "python",
   "nbconvert_exporter": "python",
   "pygments_lexer": "ipython3",
   "version": "3.11.9"
  }
 },
 "nbformat": 4,
 "nbformat_minor": 2
}
