{
 "cells": [
  {
   "cell_type": "code",
   "execution_count": 3,
   "id": "d643ec96-d108-4d5a-a857-4249f23807b0",
   "metadata": {},
   "outputs": [],
   "source": [
    "import numpy as np\n",
    "\n",
    "y_true = np.array([1,0,0,1])\n",
    "y_predicted = np.array([0.2, 0.3, 0.5, 1])"
   ]
  },
  {
   "cell_type": "code",
   "execution_count": 4,
   "id": "3d70cfeb",
   "metadata": {},
   "outputs": [],
   "source": [
    "def mae(y_true, y_predicted):\n",
    "  total_error = 0\n",
    "  for yp, yt in zip(y_true, y_predicted):\n",
    "    total_error += abs(yt - yp)\n",
    "  print(total_error)\n",
    "\n",
    "  mae = total_error / len(y_true)\n",
    "  print(\"MAE: \", mae)\n",
    "  return mae"
   ]
  },
  {
   "cell_type": "code",
   "execution_count": 5,
   "id": "d4d07b1d",
   "metadata": {},
   "outputs": [
    {
     "name": "stdout",
     "output_type": "stream",
     "text": [
      "1.6\n",
      "MAE:  0.4\n"
     ]
    },
    {
     "data": {
      "text/plain": [
       "0.4"
      ]
     },
     "execution_count": 5,
     "metadata": {},
     "output_type": "execute_result"
    }
   ],
   "source": [
    "mae(y_true, y_predicted)"
   ]
  }
 ],
 "metadata": {
  "kernelspec": {
   "display_name": "venv",
   "language": "python",
   "name": "python3"
  },
  "language_info": {
   "codemirror_mode": {
    "name": "ipython",
    "version": 3
   },
   "file_extension": ".py",
   "mimetype": "text/x-python",
   "name": "python",
   "nbconvert_exporter": "python",
   "pygments_lexer": "ipython3",
   "version": "3.11.9"
  }
 },
 "nbformat": 4,
 "nbformat_minor": 5
}
